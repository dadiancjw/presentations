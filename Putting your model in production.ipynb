{
 "cells": [
  {
   "cell_type": "markdown",
   "metadata": {
    "slideshow": {
     "slide_type": "slide"
    }
   },
   "source": [
    "# Putting your model in production"
   ]
  },
  {
   "cell_type": "markdown",
   "metadata": {
    "slideshow": {
     "slide_type": "slide"
    }
   },
   "source": [
    "- Python focused\n",
    "- Just touching the topic (but with some important best practices)\n",
    "- You'll need to experiment by yourself"
   ]
  },
  {
   "cell_type": "markdown",
   "metadata": {
    "slideshow": {
     "slide_type": "slide"
    }
   },
   "source": [
    "![Services](img/services.png)"
   ]
  },
  {
   "cell_type": "markdown",
   "metadata": {
    "slideshow": {
     "slide_type": "slide"
    }
   },
   "source": [
    "# Using cloud\n",
    "\n",
    "- Google Cloud Platform\n",
    "- https://cloud.google.com/ml-engine/docs/concepts/prediction-overview\n",
    "- https://cloud.google.com/blog/big-data/2017/09/performing-prediction-with-tensorflow-object-detection-models-on-google-cloud-machine-learning-engine"
   ]
  },
  {
   "cell_type": "markdown",
   "metadata": {
    "slideshow": {
     "slide_type": "slide"
    }
   },
   "source": [
    "# Web app 101\n",
    "\n",
    "- Request / Response\n",
    "- Request types - GET / POST\n",
    "\n",
    "GET: http://example.com\n",
    "\n",
    "GET with parameters: http://example.com?feature1=encoded_data&feature2=42"
   ]
  },
  {
   "cell_type": "markdown",
   "metadata": {
    "slideshow": {
     "slide_type": "slide"
    }
   },
   "source": [
    "### JSON format \n",
    "\n",
    "Sending/receiving data"
   ]
  },
  {
   "cell_type": "code",
   "execution_count": null,
   "metadata": {
    "collapsed": true
   },
   "outputs": [],
   "source": [
    "{\n",
    "    \"head_element\": [\n",
    "        \"just_string\": \"I'm happy string!\",\n",
    "        \"array_example\": [\n",
    "            {\"more\": \"inside\"},\n",
    "            {\"even\": \"more\"}\n",
    "        ]\n",
    "    ]\n",
    "}"
   ]
  },
  {
   "cell_type": "markdown",
   "metadata": {},
   "source": [
    "Remember to set your Request / Response header to ```application/json```\n",
    "\n",
    "_(Example POST request - in Postman)_"
   ]
  },
  {
   "cell_type": "markdown",
   "metadata": {
    "slideshow": {
     "slide_type": "slide"
    }
   },
   "source": [
    "# Flask Application\n",
    "\n",
    "- Base flask \"template\"\n",
    "- installing flask related modules - ```pip install flask flask_restful ...```  _(all in pip)_\n",
    "- virtual env / conda env\n",
    "- running with default python development server\n",
    "\n",
    "```\n",
    "$ python app.py \n",
    " * Running on http://127.0.0.1:5000/ (Press CTRL+C to quit)\n",
    "127.0.0.1 - - [22/Sep/2017 15:31:49] \"GET /classify_user HTTP/1.0\" 200 -\n",
    "```"
   ]
  },
  {
   "cell_type": "markdown",
   "metadata": {
    "slideshow": {
     "slide_type": "slide"
    }
   },
   "source": [
    "# File: app.py"
   ]
  },
  {
   "cell_type": "code",
   "execution_count": null,
   "metadata": {
    "collapsed": true,
    "slideshow": {
     "slide_type": "-"
    }
   },
   "outputs": [],
   "source": [
    "from flask import Flask\n",
    "from flask_restful import Api\n",
    "from resource.weibo_classification_resource import WeiboClassificationResource\n",
    "from utils import set_logging\n",
    "\n",
    "app = Flask(__name__)\n",
    "api = Api(app)\n",
    "\n",
    "# Handle our GETs and POSTs\n",
    "api.add_resource(WeiboClassificationResource, '/classify_user',) \n",
    "\n",
    "if __name__ == '__main__':\n",
    "    app.run(port=5000)"
   ]
  },
  {
   "cell_type": "markdown",
   "metadata": {
    "slideshow": {
     "slide_type": "slide"
    }
   },
   "source": [
    "# File: weibo_classification_resource.py"
   ]
  },
  {
   "cell_type": "code",
   "execution_count": null,
   "metadata": {
    "collapsed": true,
    "slideshow": {
     "slide_type": "-"
    }
   },
   "outputs": [],
   "source": [
    "from flask_restful import Resource\n",
    "from flask import jsonify, request\n",
    "from flask import Response\n",
    "\n",
    "class WeiboClassificationResource(Resource):\n",
    "    def get(self):\n",
    "        return jsonify(hello='world!')\n",
    "    \n",
    "    def post(self):\n",
    "        json_data = request.get_json(force=True)\n",
    "        posts = json_data['user_posts']\n",
    "\n",
    "        if posts[0] == 'fake':\n",
    "            res_text = 'fake user!'\n",
    "        else:\n",
    "            res_text = 'real_user'\n",
    "\n",
    "        return jsonify(classification_result=res_text)    "
   ]
  },
  {
   "cell_type": "code",
   "execution_count": null,
   "metadata": {
    "collapsed": true
   },
   "outputs": [],
   "source": [
    "# 1.    \n",
    "# GET http://localhost:5000/classify_user\n",
    "\n",
    "# 2.\n",
    "# POST http://localhost:5000/classify_user    \n",
    "# JSON:     \n",
    "#{\n",
    "#    \"user_posts\": [\"user post 1\", \"user post 2\"]\n",
    "#}"
   ]
  },
  {
   "cell_type": "markdown",
   "metadata": {
    "slideshow": {
     "slide_type": "slide"
    }
   },
   "source": [
    "# Loading model in memory\n",
    "\n",
    "## File: model.py"
   ]
  },
  {
   "cell_type": "code",
   "execution_count": null,
   "metadata": {
    "collapsed": true
   },
   "outputs": [],
   "source": [
    "class Model:\n",
    "    '''\n",
    "    Model initialization process\n",
    "    '''\n",
    "    def __init__(self):\n",
    "        print(\"START LOADING MODEL\")\n",
    "        for _ in range(0, 3):\n",
    "            with open('/Users/bart/Downloads/vocabulary_and_requests_2017_09_11.sql') as fh:\n",
    "                self.f = fh.read()\n",
    "        print('END LOADING MODEL')\n",
    "        print(\"All operations required to run predict() are in worker's memory\")\n",
    "\n",
    "        self.len_f = 0\n",
    "\n",
    "    def predict(self):\n",
    "        self.len_f = self.len_f + 1\n",
    "        return self.len_f"
   ]
  },
  {
   "cell_type": "markdown",
   "metadata": {
    "slideshow": {
     "slide_type": "slide"
    }
   },
   "source": [
    "# Logging"
   ]
  },
  {
   "cell_type": "code",
   "execution_count": null,
   "metadata": {
    "collapsed": true
   },
   "outputs": [],
   "source": [
    "from flask import Flask\n",
    "from flask_restful import Api\n",
    "from resource.weibo_classification_resource import WeiboClassificationResource\n",
    "from utils import set_logging\n",
    "\n",
    "app = Flask(__name__)\n",
    "api = Api(app)\n",
    "\n",
    "# LOGGING\n",
    "logging_config_file = 'config/logging_config.yml'\n",
    "set_logging(logging_config_file)\n",
    "\n",
    "api.add_resource(WeiboClassificationResource, '/classify_user',)\n",
    "\n",
    "if __name__ == '__main__':\n",
    "    app.run(port=5000)"
   ]
  },
  {
   "cell_type": "markdown",
   "metadata": {
    "slideshow": {
     "slide_type": "slide"
    }
   },
   "source": [
    "# Logging\n",
    "\n",
    "## File: config/logging_config.yml"
   ]
  },
  {
   "cell_type": "code",
   "execution_count": null,
   "metadata": {
    "collapsed": true
   },
   "outputs": [],
   "source": [
    "version: 1\n",
    "\n",
    "formatters:\n",
    "  simple:\n",
    "    format: '[%(asctime)s] %(name)s:%(module)s:%(levelname)s - %(message)s'\n",
    "\n",
    "handlers:\n",
    "  console:\n",
    "    class: logging.StreamHandler\n",
    "    level: WARNING\n",
    "    formatter: simple\n",
    "    stream: ext://sys.stdout\n",
    "  logfile:\n",
    "    class: logging.FileHandler\n",
    "    filename: logs/app.log\n",
    "    formatter: simple\n",
    "    level: DEBUG\n",
    "\n",
    "root:\n",
    "  level: DEBUG\n",
    "  handlers: [logfile]"
   ]
  },
  {
   "cell_type": "markdown",
   "metadata": {
    "slideshow": {
     "slide_type": "slide"
    }
   },
   "source": [
    "# Batching"
   ]
  },
  {
   "cell_type": "code",
   "execution_count": null,
   "metadata": {
    "collapsed": true
   },
   "outputs": [],
   "source": [
    "{\n",
    "    \"posts\": [\n",
    "        'user first post',\n",
    "        'user next post',\n",
    "        'and third post'\n",
    "    ]\n",
    "}"
   ]
  },
  {
   "cell_type": "markdown",
   "metadata": {
    "slideshow": {
     "slide_type": "slide"
    }
   },
   "source": [
    "# Gunicorn\n",
    "\n",
    "- installing - ```pip install gunicorn```\n",
    "- invoking\n",
    "\n",
    "### File: run.sh"
   ]
  },
  {
   "cell_type": "code",
   "execution_count": null,
   "metadata": {
    "collapsed": true
   },
   "outputs": [],
   "source": [
    "#!/usr/bin/env bash\n",
    "\n",
    "source activate py36 # or virtualenv ....\n",
    "gunicorn -b 0.0.0.0:5000 app:app\n",
    "        \n",
    "# in file: app.py\n",
    "# app = Flask(__name__)"
   ]
  },
  {
   "cell_type": "markdown",
   "metadata": {
    "slideshow": {
     "slide_type": "slide"
    }
   },
   "source": [
    "# Gunicorn\n",
    "\n",
    "### Multiple workers"
   ]
  },
  {
   "cell_type": "code",
   "execution_count": null,
   "metadata": {
    "collapsed": true
   },
   "outputs": [],
   "source": [
    "gunicorn -w4 -b 0.0.0.0:5000 app:app -k gevent"
   ]
  },
  {
   "cell_type": "markdown",
   "metadata": {},
   "source": [
    "### Extended access/error logging"
   ]
  },
  {
   "cell_type": "code",
   "execution_count": null,
   "metadata": {
    "collapsed": true
   },
   "outputs": [],
   "source": [
    "gunicorn -w4 -b 0.0.0.0:5000 app:app --access-logfile logs/access.log --error-logfile logs/error.log -k gevent"
   ]
  },
  {
   "cell_type": "markdown",
   "metadata": {},
   "source": [
    "### Deamon mode"
   ]
  },
  {
   "cell_type": "code",
   "execution_count": null,
   "metadata": {
    "collapsed": true
   },
   "outputs": [],
   "source": [
    "gunicorn -w4 -b 0.0.0.0:5000 app:app --deamon --access-logfile logs/access.log --error-logfile logs/error.log -k gevent"
   ]
  },
  {
   "cell_type": "markdown",
   "metadata": {
    "slideshow": {
     "slide_type": "slide"
    }
   },
   "source": [
    "## Nginx\n",
    "\n",
    "very basic config"
   ]
  },
  {
   "cell_type": "code",
   "execution_count": null,
   "metadata": {
    "collapsed": true
   },
   "outputs": [],
   "source": [
    "http {\n",
    "    upstream my_app {\n",
    "        server localhost:5000;\n",
    "    }\n",
    "\n",
    "    server {\n",
    "        listen 5001;\n",
    "\n",
    "        location / {\n",
    "            proxy_pass http://my_app1;\n",
    "        }\n",
    "    }\n",
    "}"
   ]
  },
  {
   "cell_type": "markdown",
   "metadata": {
    "slideshow": {
     "slide_type": "slide"
    }
   },
   "source": [
    "## Sending other data formats\n",
    "\n",
    "### Image - encode/decode Base64\n",
    "\n",
    "  1. (Sender) Take image and encode using Base64\n",
    "  2. Send using JSON\n",
    "  3. (Model API) decode Base64 back to image\n",
    "  4. predict()"
   ]
  },
  {
   "cell_type": "markdown",
   "metadata": {
    "slideshow": {
     "slide_type": "slide"
    }
   },
   "source": [
    "## Sending other data formats\n",
    "\n",
    "### Image -  multipart/form-data"
   ]
  },
  {
   "cell_type": "code",
   "execution_count": null,
   "metadata": {
    "collapsed": true
   },
   "outputs": [],
   "source": [
    ">>> url = 'http://model-api.com'\n",
    ">>> files = {'file': open('image.jpg', 'rb')}\n",
    "\n",
    ">>> r = requests.post(url, files=files)\n",
    ">>> r.text\n",
    "{\n",
    "  ...\n",
    "  \"files\": {\n",
    "    \"file\": \"<censored...binary...data>\"\n",
    "  },\n",
    "  ...\n",
    "}"
   ]
  },
  {
   "cell_type": "markdown",
   "metadata": {
    "slideshow": {
     "slide_type": "slide"
    }
   },
   "source": [
    "# Security \n",
    "\n",
    "Header tokens"
   ]
  },
  {
   "cell_type": "code",
   "execution_count": null,
   "metadata": {
    "collapsed": true
   },
   "outputs": [],
   "source": [
    "from flask import jsonify, request\n",
    "from flask import Response\n",
    "\n",
    "class WeiboClassificationResource(Resource):\n",
    "    \n",
    "    def post(self):\n",
    "        auth = request.headers.get('Authorization')\n",
    "        if auth != 'super-secret-password':\n",
    "            return Response(\"\", status=401) # HTTP ERROR CODE UNAUTHORIZED"
   ]
  },
  {
   "cell_type": "markdown",
   "metadata": {
    "slideshow": {
     "slide_type": "slide"
    }
   },
   "source": [
    "# Scaling\n",
    "\n",
    "### nginx"
   ]
  },
  {
   "cell_type": "code",
   "execution_count": null,
   "metadata": {
    "collapsed": true
   },
   "outputs": [],
   "source": [
    "http {\n",
    "    upstream my_app {\n",
    "        server 127.0.0.1:5000 weight=3;\n",
    "        server 123.456.789.002:5000;\n",
    "        server 123.456.789.003:5000;\n",
    "    }\n",
    "\n",
    "    server {\n",
    "        listen 5001;\n",
    "\n",
    "        location / {\n",
    "            proxy_pass http://myapp;\n",
    "        }\n",
    "    }\n",
    "}"
   ]
  },
  {
   "cell_type": "markdown",
   "metadata": {
    "slideshow": {
     "slide_type": "slide"
    }
   },
   "source": [
    "# Scaling\n",
    "\n",
    "### haproxy"
   ]
  },
  {
   "cell_type": "markdown",
   "metadata": {
    "slideshow": {
     "slide_type": "slide"
    }
   },
   "source": [
    "![Haproxy](img/load-balancing-haproxy-nginx.png)"
   ]
  },
  {
   "cell_type": "markdown",
   "metadata": {
    "slideshow": {
     "slide_type": "slide"
    }
   },
   "source": [
    "![Haproxy](img/haproxy_stats.png)"
   ]
  },
  {
   "cell_type": "markdown",
   "metadata": {
    "slideshow": {
     "slide_type": "slide"
    }
   },
   "source": [
    "# GPU vs. many CPU\n",
    "\n",
    "Every case is different - just do the math"
   ]
  },
  {
   "cell_type": "markdown",
   "metadata": {
    "slideshow": {
     "slide_type": "slide"
    }
   },
   "source": [
    "# Service level\n",
    "\n",
    "- Zero-downtime deploy\n",
    "- Zero-downtime reload"
   ]
  },
  {
   "cell_type": "markdown",
   "metadata": {
    "slideshow": {
     "slide_type": "slide"
    }
   },
   "source": [
    "# Tensorflow\n",
    "\n",
    "- TF Serving - https://www.tensorflow.org/serving/\n",
    "\n",
    "![TF Serving](https://www.tensorflow.org/serving/images/tf_diagram.svg)"
   ]
  }
 ],
 "metadata": {
  "celltoolbar": "Slideshow",
  "kernelspec": {
   "display_name": "Python (3.6)",
   "language": "python",
   "name": "py36"
  },
  "language_info": {
   "codemirror_mode": {
    "name": "ipython",
    "version": 3
   },
   "file_extension": ".py",
   "mimetype": "text/x-python",
   "name": "python",
   "nbconvert_exporter": "python",
   "pygments_lexer": "ipython3",
   "version": "3.6.1"
  }
 },
 "nbformat": 4,
 "nbformat_minor": 2
}
